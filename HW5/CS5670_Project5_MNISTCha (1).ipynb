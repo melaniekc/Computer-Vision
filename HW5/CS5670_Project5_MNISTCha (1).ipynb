{
 "cells": [
  {
   "cell_type": "markdown",
   "metadata": {
    "id": "CJ1zvCUxhz_Y",
    "colab_type": "text"
   },
   "source": [
    "# CS5670 Project 5 - MNIST Challenge Notebook\n",
    "\n",
    "Welcome to the Project 5 4-credit MNIST Challenge.\n",
    "\n",
    "In this notebook you will create and train your own neural network model in PyTorch for classifying handwritten digits on the MNIST dataset.\n",
    "We will pretend that we are targeting low-power and low-memory devices, and so you will have to limit the number of model parameters that you use."
   ]
  },
  {
   "cell_type": "markdown",
   "metadata": {
    "id": "4OvSJugE7bql",
    "colab_type": "text"
   },
   "source": [
    "## Installation of Dependencies\n",
    "\n",
    "First you want to **make sure that you're using the GPU backend**.\n",
    "\n",
    "* Go to Runtime -> Change runtime type and choose \"GPU\" under Hardware Accelerator.\n",
    "* Only then run the next cell. It should print \"GPU Support: True\""
   ]
  },
  {
   "cell_type": "code",
   "execution_count": 2,
   "metadata": {
    "id": "x4Wlyq6F7Vny",
    "colab_type": "code",
    "colab": {
     "autoexec": {
      "startup": false,
      "wait_interval": 0.0
     },
     "base_uri": "https://localhost:8080/",
     "height": 34.0
    },
    "outputId": "a7cbd619-f18f-44cb-e9e2-97d0199e753f",
    "executionInfo": {
     "status": "ok",
     "timestamp": 1.525468740079E12,
     "user_tz": 240.0,
     "elapsed": 2410.0,
     "user": {
      "displayName": "Disheng Zheng",
      "photoUrl": "https://lh3.googleusercontent.com/a/default-user=s128",
      "userId": "111016125128010800049"
     }
    }
   },
   "outputs": [
    {
     "name": "stdout",
     "output_type": "stream",
     "text": [
      "GPU Support: True\n"
     ]
    }
   ],
   "source": [
    "# http://pytorch.org/\n",
    "from os import path\n",
    "from wheel.pep425tags import get_abbr_impl, get_impl_ver, get_abi_tag\n",
    "platform = '{}{}-{}'.format(get_abbr_impl(), get_impl_ver(), get_abi_tag())\n",
    "\n",
    "accelerator = 'cu80' if path.exists('/opt/bin/nvidia-smi') else 'cpu'\n",
    "\n",
    "!pip install -q http://download.pytorch.org/whl/{accelerator}/torch-0.3.0.post4-{platform}-linux_x86_64.whl torchvision\n",
    "import torch\n",
    "print(f\"GPU Support: {torch.cuda.is_available()}\")"
   ]
  },
  {
   "cell_type": "markdown",
   "metadata": {
    "id": "XHLKy2Ekqoq4",
    "colab_type": "text"
   },
   "source": [
    "## Useful functions\n",
    "\n",
    "Run the below cell to define functions that will be used later"
   ]
  },
  {
   "cell_type": "code",
   "execution_count": 0,
   "metadata": {
    "id": "XPWrOExkqysJ",
    "colab_type": "code",
    "colab": {
     "autoexec": {
      "startup": false,
      "wait_interval": 0.0
     }
    }
   },
   "outputs": [],
   "source": [
    "import torch\n",
    "import torch.nn as nn\n",
    "import torch.nn.functional as F\n",
    "import torchvision\n",
    "from torch.autograd import Variable\n",
    "\n",
    "import urllib\n",
    "import cv2\n",
    "import numpy as np\n",
    "import os, sys,  math, random, subprocess\n",
    "import matplotlib.pyplot as plt\n",
    "from scipy.ndimage.filters import gaussian_filter\n",
    "from IPython.display import clear_output, Image, display, HTML\n",
    "from google.protobuf import text_format\n",
    "from io import StringIO\n",
    "import PIL.Image\n",
    "\n",
    "def get_n_params(module):\n",
    "  nparam = 0\n",
    "  for name, param in module.named_parameters():\n",
    "    param_count = 1\n",
    "    for size in list(param.size()):\n",
    "      param_count *= size\n",
    "    nparam += param_count\n",
    "  return nparam\n",
    "\n",
    "def get_model_params(model):\n",
    "  nparam = 0\n",
    "  for name, module in model.named_modules():\n",
    "    nparam += get_n_params(module)\n",
    "  return nparam\n",
    "\n",
    "def to_numpy_image(tensor_or_variable):\n",
    "  \n",
    "  # If this is already a numpy image, just return it\n",
    "  if type(tensor_or_variable) == np.ndarray:\n",
    "    return tensor_or_variable\n",
    "  \n",
    "  # Make sure this is a tensor and not a variable\n",
    "  if type(tensor_or_variable) == Variable:\n",
    "    tensor = tensor_or_variable.data\n",
    "  else:\n",
    "    tensor = tensor_or_variable\n",
    "  \n",
    "  # Convert to numpy and move to CPU if necessary\n",
    "  np_img = tensor.cpu().numpy()\n",
    "  \n",
    "  # If there is no batch dimension, add one\n",
    "  if len(np_img.shape) == 3:\n",
    "    np_img = np_img[np.newaxis, ...]\n",
    "  \n",
    "  # Convert from BxCxHxW (PyTorch convention) to BxHxWxC (OpenCV/numpy convention)\n",
    "  np_img = np_img.transpose(0, 2, 3, 1)\n",
    "  \n",
    "  return np_img\n",
    "\n",
    "def normalize_zero_one_range(tensor_like):\n",
    "  x = tensor_like - tensor_like.min()\n",
    "  x = x / (x.max() + 1e-9)\n",
    "  return x\n",
    "\n",
    "def prep_for_showing(image):\n",
    "  np_img = to_numpy_image(image)\n",
    "  if len(np_img.shape) > 3:\n",
    "    np_img = np_img[0]\n",
    "  np_img = normalize_zero_one_range(np_img)\n",
    "  return np_img\n",
    "\n",
    "def show_image(tensor_var_or_np, title=None, bordercolor=None):\n",
    "  np_img = prep_for_showing(tensor_var_or_np)\n",
    "  \n",
    "  if bordercolor is not None:\n",
    "    np_img = draw_border(np_img, bordercolor)\n",
    "  \n",
    "  # plot it\n",
    "  np_img = np_img.squeeze()\n",
    "  plt.figure(figsize=(4,4))\n",
    "  plt.imshow(np_img)\n",
    "  plt.axis('off')\n",
    "  if title: plt.title(title)\n",
    "  plt.show()"
   ]
  },
  {
   "cell_type": "markdown",
   "metadata": {
    "id": "CJiMTcx9qr5Z",
    "colab_type": "text"
   },
   "source": [
    "## Training Data\n",
    "\n",
    "We will use the [MNIST handrwritten digit dataset](http://yann.lecun.com/exdb/mnist/) to train our neural network models. There is a simple wrapper for the MNIST dataset in the torchvision package that implements the Dataset class. We will use that in conjunction with the DataLoader to load training data. Run the below cell to download and initialize our training and test datasets. You should see an example batch of images and their labels shown."
   ]
  },
  {
   "cell_type": "code",
   "execution_count": 4,
   "metadata": {
    "id": "hURbcBfwqUrY",
    "colab_type": "code",
    "colab": {
     "autoexec": {
      "startup": false,
      "wait_interval": 0.0
     },
     "base_uri": "https://localhost:8080/",
     "height": 201.0
    },
    "outputId": "61e9ec6e-a768-4d59-a9c7-5f8fc3e45df4",
    "executionInfo": {
     "status": "ok",
     "timestamp": 1.525468742881E12,
     "user_tz": 240.0,
     "elapsed": 702.0,
     "user": {
      "displayName": "Disheng Zheng",
      "photoUrl": "https://lh3.googleusercontent.com/a/default-user=s128",
      "userId": "111016125128010800049"
     }
    }
   },
   "outputs": [
    {
     "data": {
      "image/png": "[encoded data removed]",
      "text/plain": [
       "<matplotlib.figure.Figure at 0x7f33772749b0>"
      ]
     },
     "metadata": {
      "tags": []
     },
     "output_type": "display_data"
    },
    {
     "name": "stdout",
     "output_type": "stream",
     "text": [
      "GroundTruth:      7     2     1     0     4     1     4     9     5     9     0     6     9     0     1     5     9     7     3     4     9     6     6     5     4     0     7     4     0     1     3     1\n"
     ]
    }
   ],
   "source": [
    "import torchvision\n",
    "import torchvision.transforms as transforms\n",
    "\n",
    "BATCH_SIZE = 32\n",
    "\n",
    "transform = transforms.Compose(\n",
    "    [transforms.ToTensor(),\n",
    "     transforms.Normalize((0.5, 0.5, 0.5), (0.5, 0.5, 0.5))])\n",
    "\n",
    "trainset = torchvision.datasets.MNIST(root='./data', train=True,\n",
    "                                        download=True, transform=transform)\n",
    "trainloader = torch.utils.data.DataLoader(trainset, batch_size=BATCH_SIZE,\n",
    "                                          shuffle=True, num_workers=2)\n",
    "\n",
    "testset = torchvision.datasets.MNIST(root='./data', train=False,\n",
    "                                       download=True, transform=transform)\n",
    "testloader = torch.utils.data.DataLoader(testset, batch_size=BATCH_SIZE,\n",
    "                                         shuffle=False, num_workers=2)\n",
    "\n",
    "# get some random training images\n",
    "dataiter = iter(trainloader)\n",
    "images, labels = dataiter.next()\n",
    "\n",
    "dataiter = iter(testloader)\n",
    "images, labels = dataiter.next()\n",
    "\n",
    "# print images\n",
    "show_image(torchvision.utils.make_grid(images))\n",
    "print('GroundTruth: ', ' '.join('%5s' % labels[j] for j in range(BATCH_SIZE)))"
   ]
  },
  {
   "cell_type": "markdown",
   "metadata": {
    "id": "BfN6oCjwrqR1",
    "colab_type": "text"
   },
   "source": [
    "## Model Definition (Example Model)\n",
    "\n",
    "This is an example model provided to you. It is pretty good and it reaches >98% accuracy on the test set, but we can do better. In particular, we will try to break the 99% accuracy barrier with a tight limit on the number of model parameters."
   ]
  },
  {
   "cell_type": "code",
   "execution_count": 11,
   "metadata": {
    "id": "jjvxIDrXrujd",
    "colab_type": "code",
    "colab": {
     "autoexec": {
      "startup": false,
      "wait_interval": 0.0
     },
     "base_uri": "https://localhost:8080/",
     "height": 34.0
    },
    "outputId": "91a8d39b-c9ae-4f5f-d194-8b4c0ea616b7",
    "executionInfo": {
     "status": "ok",
     "timestamp": 1.525468866521E12,
     "user_tz": 240.0,
     "elapsed": 327.0,
     "user": {
      "displayName": "Disheng Zheng",
      "photoUrl": "https://lh3.googleusercontent.com/a/default-user=s128",
      "userId": "111016125128010800049"
     }
    }
   },
   "outputs": [
    {
     "name": "stdout",
     "output_type": "stream",
     "text": [
      "Model number of parameters: 20842\n"
     ]
    }
   ],
   "source": [
    "class ExampleModel(nn.Module):\n",
    "    def __init__(self):\n",
    "        super(ExampleModel, self).__init__()\n",
    "        # Convolution. Input channels: 1, output channels: 6, kernel size: 5\n",
    "        self.conv1 = nn.Conv2d(1, 6, 5)\n",
    "        # Max-pooling layer that will halve the HxW resolution\n",
    "        self.pool = nn.MaxPool2d(2, 2)\n",
    "        # Another 5x5 convolution that brings channel count up to 16\n",
    "        self.conv2 = nn.Conv2d(6, 16, 5)\n",
    "        \n",
    "        # Three fully connected layers\n",
    "        self.fc1 = nn.Linear(16 * 4 * 4, 60)\n",
    "        self.fc2 = nn.Linear(60, 40)\n",
    "        self.fc3 = nn.Linear(40, 10)\n",
    "\n",
    "    def forward(self, x):\n",
    "        # Apply convolution, activation and pooling\n",
    "        # Output width after convolution = (input_width - (kernel_size - 1) / 2)\n",
    "        # Output width after pooling = input_width / 2\n",
    "        \n",
    "        # x.size() = Bx1x28x28\n",
    "        x = self.pool(F.relu(self.conv1(x)))\n",
    "        # x.size() = Bx6x12x12\n",
    "        x = self.pool(F.relu(self.conv2(x)))\n",
    "        # x.size() = Bx16x4x4\n",
    "        \n",
    "        # Flatten the output\n",
    "        x = x.view(-1, 16 * 4 * 4)\n",
    "        x = F.relu(self.fc1(x))\n",
    "        x = F.relu(self.fc2(x))\n",
    "        x = self.fc3(x)\n",
    "        return x\n",
    "\n",
    "\n",
    "net = ExampleModel()\n",
    "\n",
    "nparams = get_n_params(net)\n",
    "print(f\"Model number of parameters: {nparams}\")"
   ]
  },
  {
   "cell_type": "markdown",
   "metadata": {
    "id": "ujgr4bu-wdD4",
    "colab_type": "text"
   },
   "source": [
    "## Model Definition (Your Model)\n",
    "\n",
    "Define your own model here. It should satisfy the following constraints:\n",
    "<font color=\"red\">\n",
    "*** Number of total model parameters: < 50000**\n",
    "<br/>\n",
    "*** Reaches test-set accuracy greater than or equal to 99% after training for 10 epochs**\n",
    "</font>\n",
    "  \n",
    "A couple of ideas you can try:\n",
    "* Different model structure (e.g. more layers, smaller/bigger kernels)\n",
    "* Residual connections\n",
    "* Batch [2] / Layer Normalization [3]\n",
    "* Densely connected architectures [1]\n",
    "\n",
    "<font size=\"1em\">[1] Huang, G., Liu, Z., Weinberger, K. Q., & van der Maaten, L. (2017, July). Densely connected convolutional networks. In Proceedings of the IEEE conference on computer vision and pattern recognition (Vol. 1, No. 2, p. 3).</font>\n",
    "</br>\n",
    "<font size=\"1em\">[2] Ioffe, S., & Szegedy, C. (2015). Batch normalization: Accelerating deep network training by reducing internal covariate shift. arXiv preprint arXiv:1502.03167.</font>\n",
    "</br>\n",
    "<font size=\"1em\">[3] Ba, J. L., Kiros, J. R., & Hinton, G. E. (2016). Layer normalization. arXiv preprint arXiv:1607.06450.\n",
    "</font>"
   ]
  },
  {
   "cell_type": "code",
   "execution_count": 12,
   "metadata": {
    "id": "k2CMdk8LKGdW",
    "colab_type": "code",
    "colab": {
     "autoexec": {
      "startup": false,
      "wait_interval": 0.0
     },
     "base_uri": "https://localhost:8080/",
     "height": 34.0
    },
    "outputId": "035ed5a8-c67c-41fb-f992-b66f66ae6bde",
    "executionInfo": {
     "status": "ok",
     "timestamp": 1.525468870946E12,
     "user_tz": 240.0,
     "elapsed": 272.0,
     "user": {
      "displayName": "Disheng Zheng",
      "photoUrl": "https://lh3.googleusercontent.com/a/default-user=s128",
      "userId": "111016125128010800049"
     }
    }
   },
   "outputs": [
    {
     "name": "stdout",
     "output_type": "stream",
     "text": [
      "Model number of parameters: 49600\n"
     ]
    }
   ],
   "source": [
    "class StudentModel(nn.Module):\n",
    "    def __init__(self):\n",
    "        super(StudentModel, self).__init__()\n",
    "        # Convolution. Input channels: 1, output channels: 16, kernel size: 5\n",
    "        self.conv1 = nn.Conv2d(1, 16, 5)\n",
    "        # Max-pooling layer that will halve the HxW resolution\n",
    "        self.pool = nn.MaxPool2d(2, 2)\n",
    "        # Another 5x5 convolution that brings channel count up to 34\n",
    "        self.conv2 = nn.Conv2d(16, 34, 5)\n",
    "\n",
    "        # Three fully connected layers\n",
    "        self.fc1 = nn.Linear(34 * 4 * 4, 60)\n",
    "        self.fc2 = nn.Linear(60, 40)\n",
    "        self.fc3 = nn.Linear(40, 10)       \n",
    "\n",
    "    def forward(self, x):\n",
    "        # Apply convolution, activation and pooling\n",
    "        # Output width after convolution = (input_width - (kernel_size - 1) / 2)\n",
    "        # Output width after pooling = input_width / 2\n",
    "        # x.size() = Bx1x28x28\n",
    "        x = self.pool(F.relu(self.conv1(x)))\n",
    "        # x.size() = Bx16x12x12\n",
    "        #Dropout 0.2 of the points data to avoid overfit.\n",
    "        x = F.dropout(self.pool(F.relu(self.conv2(x))), 0.2)\n",
    "        # x.size() = Bx34x4x4\n",
    "        \n",
    "        # Flatten the output\n",
    "        x = x.view(-1, 34 * 4 * 4)\n",
    "        x = F.relu(self.fc1(x))\n",
    "        #Dropout 0.2 of the points data to avoid overfit.\n",
    "        x = F.dropout(F.relu(self.fc2(x)), 0.2)    \n",
    "        x = self.fc3(x)\n",
    "        return x\n",
    "      \n",
    "net = StudentModel()\n",
    "\n",
    "nparams = get_n_params(net)\n",
    "print(f\"Model number of parameters: {nparams}\")\n",
    "\n",
    "assert nparams < 50000, \"Too many model parameters!\""
   ]
  },
  {
   "cell_type": "markdown",
   "metadata": {
    "id": "7NBY2H8yrgRE",
    "colab_type": "text"
   },
   "source": [
    "## Training Loop\n",
    "\n",
    "Run the following training loop to train your model. **Uncomment the line `net = StudentModel()` to use your model instead of the example model**."
   ]
  },
  {
   "cell_type": "code",
   "execution_count": 0,
   "metadata": {
    "id": "EVzqqVy9rfLk",
    "colab_type": "code",
    "colab": {
     "autoexec": {
      "startup": false,
      "wait_interval": 0.0
     },
     "base_uri": "https://localhost:8080/",
     "height": 2635.0
    },
    "outputId": "3638964c-a885-40ca-f234-636807d3adc2"
   },
   "outputs": [
    {
     "name": "stdout",
     "output_type": "stream",
     "text": [
      "Using GPU\n",
      "[1,   100] loss: 2.085\n",
      "[1,   200] loss: 0.596\n",
      "[1,   300] loss: 0.255\n",
      "[1,   400] loss: 0.177\n",
      "[1,   500] loss: 0.184\n",
      "[1,   600] loss: 0.142\n",
      "[1,   700] loss: 0.132\n",
      "[1,   800] loss: 0.117\n",
      "[1,   900] loss: 0.091\n",
      "[1,  1000] loss: 0.094\n",
      "[1,  1100] loss: 0.101\n",
      "[1,  1200] loss: 0.111\n",
      "[1,  1300] loss: 0.089\n",
      "[1,  1400] loss: 0.088\n",
      "[1,  1500] loss: 0.093\n",
      "[1,  1600] loss: 0.077\n",
      "[1,  1700] loss: 0.059\n",
      "[1,  1800] loss: 0.078\n",
      "[2,   100] loss: 0.057\n",
      "[2,   200] loss: 0.047\n",
      "[2,   300] loss: 0.049\n",
      "[2,   400] loss: 0.062\n",
      "[2,   500] loss: 0.061\n",
      "[2,   600] loss: 0.047\n",
      "[2,   700] loss: 0.064\n",
      "[2,   800] loss: 0.055\n",
      "[2,   900] loss: 0.052\n",
      "[2,  1000] loss: 0.060\n",
      "[2,  1100] loss: 0.055\n",
      "[2,  1200] loss: 0.070\n",
      "[2,  1300] loss: 0.055\n",
      "[2,  1400] loss: 0.049\n",
      "[2,  1500] loss: 0.053\n",
      "[2,  1600] loss: 0.041\n",
      "[2,  1700] loss: 0.037\n",
      "[2,  1800] loss: 0.050\n",
      "[3,   100] loss: 0.031\n",
      "[3,   200] loss: 0.037\n",
      "[3,   300] loss: 0.046\n",
      "[3,   400] loss: 0.053\n",
      "[3,   500] loss: 0.043\n",
      "[3,   600] loss: 0.029\n",
      "[3,   700] loss: 0.035\n",
      "[3,   800] loss: 0.048\n",
      "[3,   900] loss: 0.035\n",
      "[3,  1000] loss: 0.042\n",
      "[3,  1100] loss: 0.034\n",
      "[3,  1200] loss: 0.043\n",
      "[3,  1300] loss: 0.044\n",
      "[3,  1400] loss: 0.040\n",
      "[3,  1500] loss: 0.032\n",
      "[3,  1600] loss: 0.036\n",
      "[3,  1700] loss: 0.028\n",
      "[3,  1800] loss: 0.035\n",
      "[4,   100] loss: 0.035\n",
      "[4,   200] loss: 0.022\n",
      "[4,   300] loss: 0.031\n",
      "[4,   400] loss: 0.030\n",
      "[4,   500] loss: 0.029\n",
      "[4,   600] loss: 0.036\n",
      "[4,   700] loss: 0.029\n",
      "[4,   800] loss: 0.024\n",
      "[4,   900] loss: 0.035\n",
      "[4,  1000] loss: 0.027\n",
      "[4,  1100] loss: 0.036\n",
      "[4,  1200] loss: 0.032\n",
      "[4,  1300] loss: 0.028\n",
      "[4,  1400] loss: 0.028\n",
      "[4,  1500] loss: 0.031\n",
      "[4,  1600] loss: 0.016\n",
      "[4,  1700] loss: 0.022\n",
      "[4,  1800] loss: 0.041\n",
      "[5,   100] loss: 0.023\n",
      "[5,   200] loss: 0.016\n",
      "[5,   300] loss: 0.017\n",
      "[5,   400] loss: 0.013\n",
      "[5,   500] loss: 0.020\n",
      "[5,   600] loss: 0.024\n",
      "[5,   700] loss: 0.020\n",
      "[5,   800] loss: 0.030\n",
      "[5,   900] loss: 0.031\n",
      "[5,  1000] loss: 0.017\n",
      "[5,  1100] loss: 0.027\n",
      "[5,  1200] loss: 0.030\n",
      "[5,  1300] loss: 0.026\n",
      "[5,  1400] loss: 0.026\n",
      "[5,  1500] loss: 0.023\n",
      "[5,  1600] loss: 0.023\n",
      "[5,  1700] loss: 0.040\n",
      "[5,  1800] loss: 0.021\n",
      "[6,   100] loss: 0.022\n",
      "[6,   200] loss: 0.013\n"
     ]
    },
    {
     "name": "stdout",
     "output_type": "stream",
     "text": [
      "[6,   300] loss: 0.012\n",
      "[6,   400] loss: 0.015\n",
      "[6,   500] loss: 0.015\n",
      "[6,   600] loss: 0.027\n",
      "[6,   700] loss: 0.019\n",
      "[6,   800] loss: 0.017\n",
      "[6,   900] loss: 0.026\n",
      "[6,  1000] loss: 0.024\n",
      "[6,  1100] loss: 0.015\n",
      "[6,  1200] loss: 0.019\n",
      "[6,  1300] loss: 0.019\n",
      "[6,  1400] loss: 0.029\n",
      "[6,  1500] loss: 0.020\n",
      "[6,  1600] loss: 0.016\n",
      "[6,  1700] loss: 0.014\n",
      "[6,  1800] loss: 0.016\n",
      "[7,   100] loss: 0.008\n",
      "[7,   200] loss: 0.012\n",
      "[7,   300] loss: 0.017\n",
      "[7,   400] loss: 0.013\n",
      "[7,   500] loss: 0.012\n",
      "[7,   600] loss: 0.023\n",
      "[7,   700] loss: 0.023\n",
      "[7,   800] loss: 0.011\n",
      "[7,   900] loss: 0.014\n",
      "[7,  1000] loss: 0.013\n",
      "[7,  1100] loss: 0.009\n",
      "[7,  1200] loss: 0.016\n",
      "[7,  1300] loss: 0.017\n",
      "[7,  1400] loss: 0.012\n",
      "[7,  1500] loss: 0.018\n",
      "[7,  1600] loss: 0.012\n",
      "[7,  1700] loss: 0.016\n",
      "[7,  1800] loss: 0.030\n",
      "[8,   100] loss: 0.009\n",
      "[8,   200] loss: 0.016\n",
      "[8,   300] loss: 0.008\n",
      "[8,   400] loss: 0.014\n",
      "[8,   500] loss: 0.008\n",
      "[8,   600] loss: 0.012\n",
      "[8,   700] loss: 0.005\n",
      "[8,   800] loss: 0.011\n",
      "[8,   900] loss: 0.008\n",
      "[8,  1000] loss: 0.026\n",
      "[8,  1100] loss: 0.018\n",
      "[8,  1200] loss: 0.017\n",
      "[8,  1300] loss: 0.018\n",
      "[8,  1400] loss: 0.014\n",
      "[8,  1500] loss: 0.013\n",
      "[8,  1600] loss: 0.011\n",
      "[8,  1700] loss: 0.021\n",
      "[8,  1800] loss: 0.014\n",
      "[9,   100] loss: 0.010\n",
      "[9,   200] loss: 0.011\n",
      "[9,   300] loss: 0.021\n",
      "[9,   400] loss: 0.012\n",
      "[9,   500] loss: 0.009\n",
      "[9,   600] loss: 0.010\n",
      "[9,   700] loss: 0.005\n",
      "[9,   800] loss: 0.013\n",
      "[9,   900] loss: 0.006\n"
     ]
    }
   ],
   "source": [
    "import torch.optim as optim\n",
    "PRINT_EVERY = 100\n",
    "\n",
    "#-----------------------------------------------------------------------------\n",
    "# Comment this line:\n",
    "#net = ExampleModel()\n",
    "\n",
    "# Uncomment this line\n",
    "net = StudentModel()\n",
    "#-----------------------------------------------------------------------------\n",
    "\n",
    "if type(net) == ExampleModel:\n",
    "  print(\"WARNING! Running example model. Uncomment line to run your own model!\")\n",
    "\n",
    "#-----------------------------------------------------------------------------\n",
    "\n",
    "criterion = nn.CrossEntropyLoss()\n",
    "optimizer = optim.SGD(net.parameters(), lr=0.01, momentum=0.9)\n",
    "\n",
    "USE_CUDA = torch.cuda.is_available()\n",
    "\n",
    "if USE_CUDA:\n",
    "  net = net.cuda()\n",
    "  print(\"Using GPU\")\n",
    "else:\n",
    "  print(\"Not using GPU\")\n",
    "  \n",
    "net.train()\n",
    "  \n",
    "for epoch in range(10):  # loop over the dataset multiple times\n",
    "\n",
    "    running_loss = 0.0\n",
    "    for i, data in enumerate(trainloader, 0):\n",
    "        # get the inputs\n",
    "        inputs, labels = data\n",
    "        \n",
    "        inputs = Variable(inputs)\n",
    "        labels = Variable(labels)\n",
    "        \n",
    "        if USE_CUDA:\n",
    "          inputs = inputs.cuda()\n",
    "          labels = labels.cuda()\n",
    "        \n",
    "        # zero the parameter gradients\n",
    "        optimizer.zero_grad()\n",
    "\n",
    "        # forward + backward + optimize\n",
    "        outputs = net(inputs)\n",
    "        loss = criterion(outputs, labels)\n",
    "        loss.backward()\n",
    "        optimizer.step()\n",
    "\n",
    "        # print statistics\n",
    "        running_loss += loss.data[0]\n",
    "        if i % PRINT_EVERY == PRINT_EVERY - 1:    # print every PRINT_EVERY mini-batches\n",
    "            #show_image(torchvision.utils.make_grid(inputs.data))\n",
    "            print('[%d, %5d] loss: %.3f' %\n",
    "                  (epoch + 1, i + 1, running_loss / 100))\n",
    "            running_loss = 0.0\n",
    "\n",
    "print('Finished Training')"
   ]
  },
  {
   "cell_type": "markdown",
   "metadata": {
    "id": "W0SLImjx1QE1",
    "colab_type": "text"
   },
   "source": [
    "## Testing\n",
    "\n",
    "Use the below cell to test your model on the MNIST test set. By right you should only run your model on the test set once, before publishing your results. In this assignment, we will allow you to re-use the test set, which is technically an incorrect practice."
   ]
  },
  {
   "cell_type": "code",
   "execution_count": 18,
   "metadata": {
    "id": "jo1Zkn5EyNG7",
    "colab_type": "code",
    "colab": {
     "autoexec": {
      "startup": false,
      "wait_interval": 0.0
     },
     "base_uri": "https://localhost:8080/",
     "height": 85.0
    },
    "outputId": "7cf29352-f5d6-40ec-e372-209fad1da8ce",
    "executionInfo": {
     "status": "ok",
     "timestamp": 1.525469354789E12,
     "user_tz": 240.0,
     "elapsed": 2012.0,
     "user": {
      "displayName": "Disheng Zheng",
      "photoUrl": "https://lh3.googleusercontent.com/a/default-user=s128",
      "userId": "111016125128010800049"
     }
    }
   },
   "outputs": [
    {
     "name": "stdout",
     "output_type": "stream",
     "text": [
      "Accuracy of the network on the 10000 test images: 99.02%\n",
      "Correct: 9902/10000\n",
      "\n",
      "Congratulations! You beat the 99% barrier!\n"
     ]
    }
   ],
   "source": [
    "correct = 0\n",
    "total = 0\n",
    "\n",
    "net.eval()\n",
    "\n",
    "for data in testloader:\n",
    "    images, labels = data\n",
    "    images = Variable(images, volatile=True)\n",
    "    if USE_CUDA:\n",
    "      images, labels = images.cuda(), labels.cuda()\n",
    "    \n",
    "    outputs = net(images)\n",
    "    _, predicted = torch.max(outputs.data, 1)\n",
    "    total += labels.size(0)\n",
    "    correct += (predicted == labels).sum()\n",
    "\n",
    "acc = 100 * correct / total\n",
    "    \n",
    "print(f'Accuracy of the network on the 10000 test images: {acc}%')\n",
    "print(f'Correct: {correct}/{total}')\n",
    "print(\"\")\n",
    "\n",
    "from IPython.display import Markdown, display\n",
    "\n",
    "if acc >= 99:\n",
    "  \n",
    "  print(\"Congratulations! You beat the 99% barrier!\")\n",
    "else:\n",
    "  print(\"Sorry, but you can do better. Try again!\")"
   ]
  },
  {
   "cell_type": "markdown",
   "metadata": {
    "id": "KmLl5haX4Om_",
    "colab_type": "text"
   },
   "source": [
    "### Per-class accuracy\n",
    "\n",
    "Run the below cell to see which digits your model is better at recognizing and which digits it gets confused by."
   ]
  },
  {
   "cell_type": "code",
   "execution_count": 19,
   "metadata": {
    "id": "qp8POK0dyOKn",
    "colab_type": "code",
    "colab": {
     "autoexec": {
      "startup": false,
      "wait_interval": 0.0
     },
     "base_uri": "https://localhost:8080/",
     "height": 187.0
    },
    "outputId": "959c06f1-9db5-4fa8-e3d3-c183dd65feb5",
    "executionInfo": {
     "status": "ok",
     "timestamp": 1.525469361186E12,
     "user_tz": 240.0,
     "elapsed": 2589.0,
     "user": {
      "displayName": "Disheng Zheng",
      "photoUrl": "https://lh3.googleusercontent.com/a/default-user=s128",
      "userId": "111016125128010800049"
     }
    }
   },
   "outputs": [
    {
     "name": "stdout",
     "output_type": "stream",
     "text": [
      "Accuracy of     0 : 99 %\n",
      "Accuracy of     1 : 99 %\n",
      "Accuracy of     2 : 100 %\n",
      "Accuracy of     3 : 98 %\n",
      "Accuracy of     4 : 100 %\n",
      "Accuracy of     5 : 97 %\n",
      "Accuracy of     6 : 100 %\n",
      "Accuracy of     7 : 100 %\n",
      "Accuracy of     8 : 100 %\n",
      "Accuracy of     9 : 97 %\n"
     ]
    }
   ],
   "source": [
    "class_correct = list(0. for i in range(10))\n",
    "class_total = list(0. for i in range(10))\n",
    "\n",
    "for data in testloader:\n",
    "    images, labels = data\n",
    "    images = Variable(images, volatile=True)\n",
    "    if USE_CUDA:\n",
    "      images, labels = images.cuda(), labels.cuda()\n",
    "    \n",
    "    outputs = net(images)\n",
    "    \n",
    "    _, predicted = torch.max(outputs.data, 1)\n",
    "    c = (predicted == labels).squeeze()\n",
    "    for i in range(4):\n",
    "        label = labels[i]\n",
    "        class_correct[label] += c[i]\n",
    "        class_total[label] += 1\n",
    "\n",
    "\n",
    "for i in range(10):\n",
    "    print('Accuracy of %5s : %2d %%' % (i, 100 * class_correct[i] / class_total[i]))"
   ]
  }
 ],
 "metadata": {
  "colab": {
   "name": "CS5670_Project5_MNISTChallenge.ipynb 2",
   "version": "0.3.2",
   "views": {},
   "default_view": {},
   "provenance": [],
   "collapsed_sections": []
  },
  "kernelspec": {
   "name": "python3",
   "display_name": "Python 3"
  },
  "accelerator": "GPU"
 },
 "nbformat": 4,
 "nbformat_minor": 0
}
